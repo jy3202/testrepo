{
 "cells": [
  {
   "cell_type": "markdown",
   "metadata": {},
   "source": [
    "<center>\n",
    "    <img src=\"https://cf-courses-data.s3.us.cloud-object-storage.appdomain.cloud/IBMDeveloperSkillsNetwork-DS0105EN-SkillsNetwork/labs/Module2/images/SN_web_lightmode.png\" width=\"300\" alt=\"cognitiveclass.ai logo\"  />\n",
    "</center>\n"
   ]
  },
  {
   "cell_type": "markdown",
   "metadata": {},
   "source": [
    "#### Add your code below following the instructions given in the course\n"
   ]
  },
  {
   "cell_type": "markdown",
   "metadata": {},
   "source": [
    "# My Jupyter Notebook on IBM Watson Studio"
   ]
  },
  {
   "cell_type": "markdown",
   "metadata": {},
   "source": [
    "**Name: Jenny Yu**  \n",
    "Desired occupation: UX Designer"
   ]
  },
  {
   "cell_type": "markdown",
   "metadata": {},
   "source": [
    "*I am interested in data science because it is part of a process that can help quantify underlying trends in behavior that can be key to designing better use experiences.*"
   ]
  },
  {
   "cell_type": "markdown",
   "metadata": {},
   "source": [
    "### My code in cell 5 calculates and displays the output of a simple addition expression (1+1)."
   ]
  },
  {
   "cell_type": "code",
   "execution_count": 2,
   "metadata": {},
   "outputs": [
    {
     "data": {
      "text/plain": [
       "2"
      ]
     },
     "execution_count": 2,
     "metadata": {},
     "output_type": "execute_result"
    }
   ],
   "source": [
    "1+1"
   ]
  },
  {
   "cell_type": "markdown",
   "metadata": {},
   "source": [
    "- bullet list item 1\n",
    "    1. number list item 1\n",
    "    2. number list item 2\n",
    "    3. bullet list item 1 number list item 3\n",
    "- bullet list item 2\n",
    "    1. bullet list item 2 number list item 1\n",
    "    2. bullet list item 2 number list item 2\n",
    "    3. bullet list item 2 number list item 3\n",
    "***\n",
    "- bullet list item 1\n",
    "    1. bullet list item 1 number list item 1\n",
    "    2. bullet list item 1 number list item 2\n",
    "    3. bullet list item 1 number list item 3\n",
    "- bullet list item 2\n",
    "    1. bullet list item 2 number list item 1\n",
    "    2. bullet list item 2 number list item 2\n",
    "    3. bullet list item 2 number list item 3\n",
    "    \n",
    "> blockquote"
   ]
  }
 ],
 "metadata": {
  "kernelspec": {
   "display_name": "Python",
   "language": "python",
   "name": "conda-env-python-py"
  },
  "language_info": {
   "codemirror_mode": {
    "name": "ipython",
    "version": 3
   },
   "file_extension": ".py",
   "mimetype": "text/x-python",
   "name": "python",
   "nbconvert_exporter": "python",
   "pygments_lexer": "ipython3",
   "version": "3.7.12"
  }
 },
 "nbformat": 4,
 "nbformat_minor": 4
}
